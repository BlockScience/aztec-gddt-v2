{
 "cells": [
  {
   "cell_type": "markdown",
   "metadata": {},
   "source": [
    "# L2 Congestion Scenarios "
   ]
  },
  {
   "cell_type": "markdown",
   "metadata": {},
   "source": [
    "## Summary\n",
    "\n",
    "The L2 Congestion scenario evaluates the relationship between network congestion measures and mana limits (target mana limit and hard mana limit per block) when different oracle control parameters are adjusted. This scenario aims to understand how these factors influence network performance and congestion levels."
   ]
  },
  {
   "cell_type": "markdown",
   "metadata": {},
   "source": [
    "## Scenario 1 "
   ]
  },
  {
   "cell_type": "markdown",
   "metadata": {},
   "source": [
    "### Objective "
   ]
  },
  {
   "cell_type": "markdown",
   "metadata": {},
   "source": [
    "### Experimental Setup"
   ]
  },
  {
   "cell_type": "markdown",
   "metadata": {},
   "source": [
    "#### Testing Variables: "
   ]
  },
  {
   "cell_type": "markdown",
   "metadata": {},
   "source": [
    "##### Environmental:\n",
    "\n",
    "- Simulating transactions based on varying user maximum mana amounts\n",
    "- (Potential) Congestion scenarios:  \n",
    "    i) Varying sequencer profitability conditions  \n",
    "    ii) Different oracle parameter values affecting transaction inclusion"
   ]
  },
  {
   "cell_type": "markdown",
   "metadata": {},
   "source": [
    "##### Protocol: \n",
    "\n",
    "- Assess the impact of mana limits on network congestion. This scenario tests various parameter choices related to mana usage and oracle controls. Key parameters include:  \n",
    "    i) TARGET_MANA_PER_BLOCK_C - The intended average mana usage per block  \n",
    "    ii) MAXIMUM_MANA_PER_BLOCK_C - The hard limit on mana usage per block  \n",
    "    iii) Oracle parameters affecting transaction costs and inclusion"
   ]
  },
  {
   "cell_type": "markdown",
   "metadata": {},
   "source": [
    "#### Simulation input/output per Monte Carlo run:\n",
    "\n",
    "##### Input:\n",
    "- Resulting transactions from varying user maximum mana amounts, sequencer profitability conditions, and oracle parameter values. These inputs are used to assess the impact on network congestion.\n",
    "\n",
    "##### Output:  \n",
    "- Time series for finalized blocks/epochs, measured according to the level of congestion (i.e., the actually attained mana use).\n",
    "- Monte Carlo M runs indexed by m:  \n",
    "For each parameter constellation of interest, we draw M realizations of the sequencer's (check) maximum mana price they are willing to pay. Additionally, for each transaction, draw the maximum mana amount the transaction can use."
   ]
  },
  {
   "cell_type": "markdown",
   "metadata": {},
   "source": [
    "#### Sweep Parameters:\n",
    "\n",
    " Refer to the [spreadsheet](https://docs.google.com/spreadsheets/d/1EbW4sEYWb7iCjOYfgivNsLxe1O6ZFYwFSsRQjfiPLTM/edit?gid=955157985#gid=955157985&range=A1) for detailed parameter configurations related to staking and slashing mechanisms.\n",
    "\n",
    "##### Control:\n",
    "\n",
    "##### Environmental:"
   ]
  },
  {
   "cell_type": "markdown",
   "metadata": {},
   "source": [
    "#### Simulation Behavior: "
   ]
  },
  {
   "cell_type": "markdown",
   "metadata": {},
   "source": [
    "#### Threshold Inequalities:"
   ]
  },
  {
   "cell_type": "markdown",
   "metadata": {},
   "source": [
    "#### Metrics:\n",
    "\n",
    "1. **Percentage Near Target:**\n",
    "    \n",
    "    - Compute the percentage of MC runs where the actual average mana used per block was within some percentage of the TARGET_MANA_PER_BLOCK_C control variable.\n",
    "    - **Interpretation:** A low value implies that the system was not operating at its intended target, as mana used in a block was on average far above or far below the TARGET_MANA_PER_BLOCK_C value.\n",
    "    \n",
    "2. **Percentage Near Limit:**\n",
    "    \n",
    "    - Compute the percentage of MC runs where the actual average mana used per transaction was within some percentage of the MAXIMUM_MANA_PER_BLOCK_C control variable.\n",
    "    - **Interpretation:** A high value implies that the system exhibited high congestion."
   ]
  },
  {
   "cell_type": "code",
   "execution_count": null,
   "metadata": {},
   "outputs": [],
   "source": [
    "#### Computational Complexity:\n",
    "1. Total number of parameter constellations: :dart: \n",
    "2. Total number of Monte Carlo runs per constellation: :dart:\n",
    "3. Total number of experiments per adaptive grid: :dart:\n",
    "4. Number of adaptive grid searches: :dart:\n",
    "5. Total number of parameter constellations evaluated: :dart:"
   ]
  },
  {
   "cell_type": "markdown",
   "metadata": {},
   "source": [
    "### Protocol Parameter Recommendations \n",
    "\n",
    ":::info\n",
    "See [main doc](https://hackmd.io/@blockscience/B1QKItvEye) for copyable explanations (or referenceable)\n",
    ":::\n",
    "\n",
    "- [ ] :dart: Write descriptive interpretation over table :dart: \n",
    "- [ ] :dart: Generate an analogue table below for the results :dart: "
   ]
  },
  {
   "cell_type": "markdown",
   "metadata": {},
   "source": [
    "### Decision Tree and Parameter Importance\n",
    "\n",
    ":::info\n",
    "See [main doc](https://hackmd.io/@blockscience/B1QKItvEye) for copyable explanations (or referenceable)\n",
    ":::\n",
    "- [ ] :dart: Write descriptive interpretation over the plot below :dart: \n",
    "- [ ] :dart: Generate an analogue plot below for the results :dart:"
   ]
  },
  {
   "cell_type": "markdown",
   "metadata": {},
   "source": [
    "### Commentary on Results:\n",
    "\n",
    ":dart: Write anything that comes up to mind based on the interpretation over all the results :dart: "
   ]
  },
  {
   "cell_type": "markdown",
   "metadata": {},
   "source": [
    "## Conclusion\n",
    "\n",
    "- [ ] 🔫 Jakob owns after Danilo wrote commentary on results 🔫"
   ]
  },
  {
   "cell_type": "markdown",
   "metadata": {},
   "source": [
    "## Appendix:\n",
    "### Parameter Impact on Metrics: "
   ]
  }
 ],
 "metadata": {
  "language_info": {
   "name": "python"
  }
 },
 "nbformat": 4,
 "nbformat_minor": 2
}
