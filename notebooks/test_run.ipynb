{
 "cells": [
  {
   "cell_type": "markdown",
   "metadata": {},
   "source": [
    "# Azted G-dDT Test Run"
   ]
  },
  {
   "cell_type": "code",
   "execution_count": 1,
   "metadata": {},
   "outputs": [],
   "source": [
    "import sys\n",
    "sys.path.append('../')\n",
    "\n",
    "import pandas as pd\n",
    "import os\n",
    "import plotly.express as px\n",
    "import seaborn as sns \n",
    "import matplotlib.pyplot as plt\n",
    "\n",
    "import plotly.io as pio\n",
    "pio.renderers.default = \"png\""
   ]
  },
  {
   "cell_type": "code",
   "execution_count": 2,
   "metadata": {},
   "outputs": [
    {
     "ename": "ImportError",
     "evalue": "cannot import name 'standard_run' from 'aztec_gddt.experiment' (/Users/danlessa/repos/bsci/aztec-gddt-v2/notebooks/../aztec_gddt/experiment.py)",
     "output_type": "error",
     "traceback": [
      "\u001b[0;31m---------------------------------------------------------------------------\u001b[0m",
      "\u001b[0;31mImportError\u001b[0m                               Traceback (most recent call last)",
      "Cell \u001b[0;32mIn[2], line 1\u001b[0m\n\u001b[0;32m----> 1\u001b[0m \u001b[38;5;28;01mfrom\u001b[39;00m \u001b[38;5;21;01maztec_gddt\u001b[39;00m\u001b[38;5;21;01m.\u001b[39;00m\u001b[38;5;21;01mexperiment\u001b[39;00m \u001b[38;5;28;01mimport\u001b[39;00m standard_run\n\u001b[1;32m      3\u001b[0m sim_df \u001b[38;5;241m=\u001b[39m standard_run()\n",
      "\u001b[0;31mImportError\u001b[0m: cannot import name 'standard_run' from 'aztec_gddt.experiment' (/Users/danlessa/repos/bsci/aztec-gddt-v2/notebooks/../aztec_gddt/experiment.py)"
     ]
    }
   ],
   "source": [
    "from aztec_gddt.experiment import standard_run\n",
    "\n",
    "sim_df = standard_run()\n"
   ]
  },
  {
   "cell_type": "code",
   "execution_count": null,
   "metadata": {},
   "outputs": [],
   "source": [
    "sim_df.current_process.map(lambda x: x.leading_sequencer if x is not None else None).dropna().value_counts()"
   ]
  },
  {
   "cell_type": "code",
   "execution_count": null,
   "metadata": {},
   "outputs": [],
   "source": [
    "agent_labels = [i for i in sim_df['agents'].iloc[0].keys() if type(i) != str]\n",
    "x = sim_df.time_l1\n",
    "fig_df = sim_df.copy()\n",
    "for i in agent_labels:\n",
    "    fig_df[f'agent_{i}_staked'] = sim_df.agents.map(lambda x: x[i].staked_amount)\n",
    "    y_i = fig_df[f'agent_{i}_staked']\n",
    "    plt.plot(x, y_i)"
   ]
  },
  {
   "cell_type": "code",
   "execution_count": null,
   "metadata": {},
   "outputs": [],
   "source": [
    "sim_df.transactions.map(lambda x: len(x))\n",
    "\n",
    "from aztec_gddt.types import *\n",
    "\n",
    "fig_df['proposal_tx_count'] = sim_df.transactions.map(lambda tx_dict: len(list(v for v in tx_dict.values() if isinstance(v, Proposal))))\n",
    "fig_df.proposal_tx_count.plot()"
   ]
  },
  {
   "cell_type": "code",
   "execution_count": null,
   "metadata": {},
   "outputs": [],
   "source": [
    "fig_df.proposal_tx_count"
   ]
  },
  {
   "cell_type": "code",
   "execution_count": null,
   "metadata": {},
   "outputs": [],
   "source": [
    "sns.lineplot(x=sim_df.timestep, y=sim_df.time_l1)"
   ]
  },
  {
   "cell_type": "code",
   "execution_count": null,
   "metadata": {},
   "outputs": [],
   "source": [
    "sim_df.head(4)"
   ]
  },
  {
   "cell_type": "code",
   "execution_count": null,
   "metadata": {},
   "outputs": [],
   "source": [
    "fig_df = sim_df.copy()\n",
    "fig_df['process_order'] = fig_df.current_process.map(lambda x: x.phase.value if x is not None else None)\n",
    "fig_df['process_label'] = fig_df.current_process.map(lambda x: x.phase.name if x is not None else None)\n",
    "fig_df = fig_df.sort_values(['process_order', 'timestep'])#.query(\"time_l1 > 320 & time_l1 < 370\")\n",
    "\n",
    "\n",
    "plt.figure(figsize=(15, 5))\n",
    "sns.lineplot(x=fig_df.time_l1, \n",
    "             y=fig_df.process_label)\n",
    "\n",
    "plt.figure(figsize=(15, 5))\n",
    "sns.scatterplot(x=fig_df.time_l1, \n",
    "             y=fig_df.process_label)\n",
    "plt.show()"
   ]
  },
  {
   "cell_type": "code",
   "execution_count": null,
   "metadata": {},
   "outputs": [],
   "source": [
    "fig_df.set_index('time_l1').sort_index().process_label"
   ]
  },
  {
   "cell_type": "code",
   "execution_count": null,
   "metadata": {},
   "outputs": [],
   "source": [
    "sim_df.iloc[-1]"
   ]
  },
  {
   "cell_type": "code",
   "execution_count": null,
   "metadata": {},
   "outputs": [],
   "source": [
    "sns.lineplot(x=sim_df.time_l1, \n",
    "             y=sim_df.finalized_blocks_count)"
   ]
  },
  {
   "cell_type": "code",
   "execution_count": null,
   "metadata": {},
   "outputs": [],
   "source": [
    "sns.lineplot(x=sim_df.time_l1, \n",
    "             y=sim_df.cumm_block_rewards)"
   ]
  },
  {
   "cell_type": "code",
   "execution_count": null,
   "metadata": {},
   "outputs": [],
   "source": [
    "sim_df['balance_sequencers'] = sim_df.agents.map(lambda x: sum(el.balance for el in x.values() if el.is_sequencer == True))\n",
    "sim_df['balance_provers'] = sim_df.agents.map(lambda x: sum(el.balance for el in x.values() if el.is_prover == True))\n",
    "sim_df['balance_relays'] = sim_df.agents.map(lambda x: sum(el.balance for el in x.values() if el.is_relay == True))\n",
    "sim_df['balance_burnt'] = sim_df.agents.map(lambda x: sum(el.balance for el in x.values() if el.uuid == 'burnt'))\n",
    "sim_df['balance_l1_builder'] = sim_df.agents.map(lambda x: sum(el.balance for el in x.values() if el.uuid == 'l1-builder'))\n",
    "\n",
    "\n",
    "px.line(sim_df,\n",
    "        x='time_l1',\n",
    "        y=['balance_sequencers', \n",
    "           'balance_provers',\n",
    "           'balance_relays',\n",
    "           'balance_burnt',\n",
    "           'balance_l1_builder'],\n",
    "        log_y=True)"
   ]
  },
  {
   "cell_type": "code",
   "execution_count": null,
   "metadata": {},
   "outputs": [],
   "source": [
    "px.scatter(sim_df,\n",
    "        x='time_l1',\n",
    "        y=['gas_fee_l1', 'gas_fee_blob'])"
   ]
  },
  {
   "cell_type": "code",
   "execution_count": null,
   "metadata": {},
   "outputs": [],
   "source": [
    "px.histogram(sim_df,\n",
    "        x=['gas_fee_l1'])"
   ]
  },
  {
   "cell_type": "code",
   "execution_count": null,
   "metadata": {},
   "outputs": [],
   "source": [
    "px.histogram(sim_df,\n",
    "        x=['gas_fee_blob'])"
   ]
  },
  {
   "cell_type": "code",
   "execution_count": null,
   "metadata": {},
   "outputs": [],
   "source": [
    "sim_df.gas_fee_l1.min()"
   ]
  },
  {
   "cell_type": "code",
   "execution_count": null,
   "metadata": {},
   "outputs": [],
   "source": [
    "ts_df = sim_df.token_supply.apply(lambda x: pd.Series(x.__dict__))\n",
    "ts_df.plot(kind='line')\n",
    "plt.title(\"Token Supply\")\n",
    "plt.show()"
   ]
  },
  {
   "cell_type": "code",
   "execution_count": null,
   "metadata": {},
   "outputs": [],
   "source": [
    "ts_df = sim_df.token_supply.apply(lambda x: pd.Series(x.__dict__)).diff()\n",
    "ts_df.plot(kind='line')\n",
    "plt.title(\"Token Supply Difference\")\n",
    "plt.show()"
   ]
  },
  {
   "cell_type": "code",
   "execution_count": null,
   "metadata": {},
   "outputs": [],
   "source": []
  }
 ],
 "metadata": {
  "kernelspec": {
   "display_name": "base",
   "language": "python",
   "name": "python3"
  },
  "language_info": {
   "codemirror_mode": {
    "name": "ipython",
    "version": 3
   },
   "file_extension": ".py",
   "mimetype": "text/x-python",
   "name": "python",
   "nbconvert_exporter": "python",
   "pygments_lexer": "ipython3",
   "version": "3.11.5"
  }
 },
 "nbformat": 4,
 "nbformat_minor": 4
}
