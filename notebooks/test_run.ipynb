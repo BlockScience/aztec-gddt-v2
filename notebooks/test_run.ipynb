{
 "cells": [
  {
   "cell_type": "markdown",
   "metadata": {},
   "source": [
    "# Aztec G-dDT Test Run"
   ]
  },
  {
   "cell_type": "code",
   "execution_count": 1,
   "metadata": {},
   "outputs": [],
   "source": [
    "import sys\n",
    "sys.path.append('../')\n",
    "\n",
    "import pandas as pd\n",
    "import os\n",
    "import plotly.express as px\n",
    "import seaborn as sns \n",
    "import matplotlib.pyplot as plt\n",
    "\n",
    "import plotly.io as pio\n",
    "pio.renderers.default = \"png\""
   ]
  },
  {
   "cell_type": "markdown",
   "metadata": {},
   "source": [
    "## Perform Simulation"
   ]
  },
  {
   "cell_type": "code",
   "execution_count": null,
   "metadata": {},
   "outputs": [],
   "source": [
    "from aztec_gddt.experiment import test_run\n",
    "\n",
    "# HACK in order to do sims in single mode\n",
    "runs = 3\n",
    "sim_dfs = []\n",
    "for run in range(runs):\n",
    "    sim_dfs.append(test_run().set_index('l1_blocks_passed').assign(run=run))\n",
    "mc_traj_df = pd.concat(sim_dfs)\n",
    "\n",
    "traj_df = mc_traj_df.query(\"run == 0 & subset == 0 & simulation == 0\")\n",
    "traj_df.columns"
   ]
  },
  {
   "cell_type": "markdown",
   "metadata": {},
   "source": [
    "## Visualization over Model Features"
   ]
  },
  {
   "cell_type": "code",
   "execution_count": null,
   "metadata": {},
   "outputs": [],
   "source": [
    "traj_df.head(5)"
   ]
  },
  {
   "cell_type": "code",
   "execution_count": null,
   "metadata": {},
   "outputs": [],
   "source": [
    "fig = px.scatter(traj_df.reset_index(), 'l1_blocks_passed', 'l2_blocks_passed')\n",
    "fig.update_layout(yaxis_range=[0, 10], xaxis_range=[0,  10 * 3], width=1000, height=500)\n",
    "fig.show()"
   ]
  },
  {
   "cell_type": "code",
   "execution_count": null,
   "metadata": {},
   "outputs": [],
   "source": [
    "y = traj_df.current_epoch.map(lambda x: len(x.slots))\n",
    "\n",
    "fig = px.line(traj_df, y=y, labels={\"x\": 'timestep', 'y': 'Slot Count for current epoch'})\n",
    "fig.show()"
   ]
  },
  {
   "cell_type": "code",
   "execution_count": null,
   "metadata": {},
   "outputs": [],
   "source": [
    "y = traj_df.last_epoch.map(lambda x: len(x.prover_quotes))\n",
    "\n",
    "fig = px.scatter(traj_df, y=y, labels={\"x\": 'timestep', 'y': 'Prover Quotes'})\n",
    "fig.show()"
   ]
  },
  {
   "cell_type": "code",
   "execution_count": null,
   "metadata": {},
   "outputs": [],
   "source": [
    "y = traj_df.last_epoch.map(lambda x: x.accepted_prover_quote)\n",
    "\n",
    "fig = px.line(traj_df, y=y, labels={\"x\": 'timestep', 'y': 'Accepted Prover Quote Value'})\n",
    "fig.show()"
   ]
  },
  {
   "cell_type": "code",
   "execution_count": null,
   "metadata": {},
   "outputs": [],
   "source": [
    "y = traj_df.last_epoch.map(lambda x: x.finalized)\n",
    "\n",
    "fig = px.line(traj_df, y=y, labels={\"x\": 'timestep', 'y': 'Pending Epoch Finalization Status'})\n",
    "fig.show()"
   ]
  },
  {
   "cell_type": "code",
   "execution_count": null,
   "metadata": {},
   "outputs": [],
   "source": [
    "y = traj_df.last_reward\n",
    "\n",
    "fig = px.line(traj_df, y=y, labels={\"x\": 'timestep', 'y': 'Last Reward'})\n",
    "fig.show()"
   ]
  },
  {
   "cell_type": "code",
   "execution_count": null,
   "metadata": {},
   "outputs": [],
   "source": [
    "y = traj_df.last_reward_time_in_l1\n",
    "\n",
    "fig = px.line(traj_df, y=y, labels={\"x\": 'timestep', 'y': 'Last Reward Time'})\n",
    "fig.show()"
   ]
  },
  {
   "cell_type": "code",
   "execution_count": null,
   "metadata": {},
   "outputs": [],
   "source": [
    "y = traj_df.current_epoch.map(lambda x: sum(s.tx_total_mana for s in x.slots))\n",
    "\n",
    "fig = px.line(traj_df, y=y, labels={\"x\": 'timestep', 'y': 'Total mana on current epoch'})\n",
    "fig.show()"
   ]
  },
  {
   "cell_type": "code",
   "execution_count": null,
   "metadata": {},
   "outputs": [],
   "source": [
    "y = ['cumm_unproven_epochs', 'cumm_resolved_epochs', 'cumm_finalized_epochs']\n",
    "\n",
    "fig = px.line(traj_df, y=y)\n",
    "fig.show()"
   ]
  },
  {
   "cell_type": "code",
   "execution_count": null,
   "metadata": {},
   "outputs": [],
   "source": [
    "y = ['cumm_empty_blocks', 'cumm_finalized_blocks']\n",
    "\n",
    "fig = px.line(traj_df, y=y)\n",
    "fig.show()"
   ]
  },
  {
   "cell_type": "code",
   "execution_count": null,
   "metadata": {},
   "outputs": [],
   "source": [
    "y = ['cumm_mana_used_on_finalized_blocks']\n",
    "\n",
    "fig = px.line(traj_df, y=y)\n",
    "fig.show()"
   ]
  },
  {
   "cell_type": "code",
   "execution_count": null,
   "metadata": {},
   "outputs": [],
   "source": [
    "y = ['market_price_juice_per_mana', 'base_fee']\n",
    "\n",
    "fig = px.line(traj_df, y=y)\n",
    "fig.show()"
   ]
  },
  {
   "cell_type": "code",
   "execution_count": null,
   "metadata": {},
   "outputs": [],
   "source": [
    "x = 'l2_blocks_passed'\n",
    "y = ['excess_mana']\n",
    "\n",
    "fig = px.line(traj_df, x=x, y=y)\n",
    "fig.show()"
   ]
  },
  {
   "cell_type": "code",
   "execution_count": null,
   "metadata": {},
   "outputs": [],
   "source": [
    "x = 'l2_blocks_passed'\n",
    "y = ['congestion_multiplier']\n",
    "\n",
    "fig = px.line(traj_df, x=x, y=y)\n",
    "fig.show()"
   ]
  },
  {
   "cell_type": "code",
   "execution_count": null,
   "metadata": {},
   "outputs": [],
   "source": [
    "\n",
    "fig = px.line(traj_df, x='excess_mana', y='congestion_multiplier')\n",
    "fig.update_traces(opacity=.4)\n",
    "fig.show()"
   ]
  },
  {
   "cell_type": "code",
   "execution_count": null,
   "metadata": {},
   "outputs": [],
   "source": [
    "x = 'timestep'\n",
    "y = ['market_price_l1_gas', 'market_price_l1_blobgas',\n",
    "      'oracle_price_l1_gas', 'oracle_price_l1_blobgas']\n",
    "\n",
    "fig = px.line(traj_df.query('timestep < 100'), x=x, y=y)\n",
    "fig.show()"
   ]
  },
  {
   "cell_type": "code",
   "execution_count": null,
   "metadata": {},
   "outputs": [],
   "source": [
    "y = ['market_price_juice_per_mana', 'oracle_price_juice_per_mana']\n",
    "\n",
    "fig = px.line(traj_df.query('timestep < 100'), x=x, y=y)\n",
    "fig.show()"
   ]
  },
  {
   "cell_type": "code",
   "execution_count": null,
   "metadata": {},
   "outputs": [],
   "source": [
    "\n",
    "N = 500\n",
    "x = traj_df.l2_blocks_passed.head(N)\n",
    "y = traj_df.current_epoch.map(lambda x: x.slots[-1].tx_total_mana).head(N)\n",
    "c = traj_df.current_epoch.map(\n",
    "    lambda x: x.slots[-1].has_proposal_on_network).head(N)\n",
    "\n",
    "fig = px.scatter(\n",
    "    x=x,\n",
    "    y=y,\n",
    "    color=c, labels={\n",
    "        \"x\": \"l2 blocks passed\",\n",
    "        \"y\": \"total mana per block\",\n",
    "        \"color\": \"has proposal on network\"},\n",
    "    width=800,\n",
    "    height=400)\n",
    "fig.show()"
   ]
  },
  {
   "cell_type": "code",
   "execution_count": null,
   "metadata": {},
   "outputs": [],
   "source": [
    "x = []\n",
    "y = []\n",
    "for i, row in traj_df.head(300).iterrows():\n",
    "    y_lst = [a.score for a in row.agents]\n",
    "    y += y_lst\n",
    "    x += len(y_lst) * [i]\n",
    "\n",
    "plt.hist2d(x, y, bins=(300, 20))\n",
    "plt.xlabel('L1 Blocks Passed')\n",
    "plt.ylabel('Agent Scores')\n",
    "plt.show()"
   ]
  },
  {
   "cell_type": "markdown",
   "metadata": {},
   "source": [
    "## Visualization over PSUU Per-Trajectory Metrics"
   ]
  },
  {
   "cell_type": "code",
   "execution_count": 23,
   "metadata": {},
   "outputs": [],
   "source": [
    "from aztec_gddt.psuu.metrics import *"
   ]
  },
  {
   "cell_type": "code",
   "execution_count": null,
   "metadata": {},
   "outputs": [],
   "source": [
    "for label, fn in PER_TRAJECTORY_METRICS.items():\n",
    "    print(f\"{label}: {fn.__name__}\")\n",
    "    print(mc_traj_df.reset_index().groupby(['simulation', 'subset', 'run']).apply(fn, include_groups=False))\n",
    "    print(\"---\")"
   ]
  },
  {
   "cell_type": "code",
   "execution_count": null,
   "metadata": {},
   "outputs": [],
   "source": []
  }
 ],
 "metadata": {
  "kernelspec": {
   "display_name": "base",
   "language": "python",
   "name": "python3"
  },
  "language_info": {
   "codemirror_mode": {
    "name": "ipython",
    "version": 3
   },
   "file_extension": ".py",
   "mimetype": "text/x-python",
   "name": "python",
   "nbconvert_exporter": "python",
   "pygments_lexer": "ipython3",
   "version": "3.11.5"
  }
 },
 "nbformat": 4,
 "nbformat_minor": 4
}
