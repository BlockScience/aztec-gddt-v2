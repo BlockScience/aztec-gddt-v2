{
 "cells": [
  {
   "cell_type": "markdown",
   "metadata": {},
   "source": [
    "# Staking Slashing Scenarios"
   ]
  },
  {
   "cell_type": "markdown",
   "metadata": {},
   "source": [
    "## 1. Resumption from Inactivity"
   ]
  },
  {
   "cell_type": "markdown",
   "metadata": {},
   "source": [
    "## Summary"
   ]
  },
  {
   "cell_type": "markdown",
   "metadata": {},
   "source": [
    "### Objective \n",
    "The Resumption from Inactivity scenario evaluates the network's ability to successfully resume activities after a portion of the network has been slashed due to inactivity. While mass slashings of consensus participants should only happen in extreme cases, the current slashing model theoretically allows validators to slash each other for arbitrary reasons. Even though it is too early to simulate specific attacks, it is necessary to further understand the effects of such events - even though the underlying reasons that lead to such an event might not be clear yet. If a high share of validators become inactive due to slashing, the network can become inactive. \n",
    "This scenario assesses how successful the network is at resuming activities after a proportion of the network has been slashed due to inactivity."
   ]
  },
  {
   "cell_type": "markdown",
   "metadata": {},
   "source": [
    "### Experimental Setup"
   ]
  },
  {
   "cell_type": "markdown",
   "metadata": {},
   "source": [
    "#### Testing Variables: \n",
    ":dart: we should check the below variables \n",
    "\n",
    "##### Environmental:\n",
    "- Simulating time series for validator events\n",
    "\n",
    "##### Protocol: \n",
    "- Assess the network's ability to resume finalization after slashing-induced inactivity. This scenario tests various parameter choices related to validator behavior and slashing mechanisms. Key parameters include:  \n",
    "    i) Probability of drawing a slashable offense for each validator  \n",
    "    ii) Probability of specific offenses occurring  \n",
    "    iii) Conditions leading to validator removal from the network"
   ]
  },
  {
   "cell_type": "markdown",
   "metadata": {},
   "source": [
    "#### Simulation input/output per Monte Carlo run:\n",
    "\n",
    "##### Input:\n",
    "- Time series of events drawn from a set of events that include slashable offenses. These events are used to assess the impact on network activity and resumption.\n",
    "\n",
    "##### Output:  \n",
    "- Time series of epoch finalization events on L1, capturing the periods of network activity and resumption from inactivity.\n",
    "- Monte Carlo runs ($M$ runs indexed by $m$): \n",
    "    For each parameter constellation of interest, a realization from a set of events is drawn for every validator at every block. Some (perhaps all) of the events in the set are slashable offenses, and some contribute to network inactivity when a validator is 1) offline, as evidenced by an event realization, or 2) removed by the protocol, after accumulating too many offenses. The realization probability may be coarsely specified as a fixed probability of drawing a slashable offense for each validator, and then another probability of which offense has occurred. A non-slashable event is ignored."
   ]
  },
  {
   "cell_type": "markdown",
   "metadata": {},
   "source": [
    "#### Sweep Parameters:\n",
    "Refer to the [spreadsheet](https://docs.google.com/spreadsheets/d/1EbW4sEYWb7iCjOYfgivNsLxe1O6ZFYwFSsRQjfiPLTM/edit?gid=955157985#gid=955157985&range=A1) for detailed parameter configurations related to staking and slashing mechanisms.\n",
    "\n",
    ":dart: Fill in :dart:\n",
    "\n",
    "##### Control:\n",
    "\n",
    "##### Environmental:"
   ]
  },
  {
   "cell_type": "markdown",
   "metadata": {},
   "source": [
    "#### Simulation Behavior: "
   ]
  },
  {
   "cell_type": "markdown",
   "metadata": {},
   "source": [
    "#### Threshold Inequalities:"
   ]
  },
  {
   "cell_type": "markdown",
   "metadata": {},
   "source": [
    "#### Metrics:\n",
    "1. **Percentage of Finalization Resumption from Inactivity:**\n",
    "    \n",
    "    - Defined as the fraction of Monte Carlo runs for which finalization has fully resumed by the end of the run, where validators have been inactive due to slashing.\n",
    "    - **Interpretation:** A resilient network resumes finalization after slashing events have caused a number of validators to become inactive. This is represented by a high percentage of runs exhibiting full finalization resumption by the end of the simulation run."
   ]
  },
  {
   "cell_type": "code",
   "execution_count": null,
   "metadata": {},
   "outputs": [],
   "source": [
    "#### Computational Complexity:\n",
    "1. Total number of parameter constellations: :dart: \n",
    "2. Total number of Monte Carlo runs per constellation: :dart:\n",
    "3. Total number of experiments per adaptive grid: :dart:\n",
    "4. Number of adaptive grid searches: :dart:\n",
    "5. Total number of parameter constellations evaluated: :dart:"
   ]
  },
  {
   "cell_type": "markdown",
   "metadata": {},
   "source": [
    "### Adaptive Grid Results \n",
    "\n",
    ":::info\n",
    "See [main doc](https://hackmd.io/@blockscience/B1QKItvEye) for copyable explanations (or referenceable)\n",
    ":::\n",
    "\n",
    "- [ ] :dart: Write descriptive interpretation over the plot below :dart: \n",
    "- [ ] :dart: Generate an analogue plot below for the results :dart: "
   ]
  },
  {
   "cell_type": "markdown",
   "metadata": {},
   "source": [
    "### Protocol Parameter Recommendations \n",
    "\n",
    ":::info\n",
    "See [main doc](https://hackmd.io/@blockscience/B1QKItvEye) for copyable explanations (or referenceable)\n",
    ":::\n",
    "\n",
    "- [ ] :dart: Write descriptive interpretation over table :dart: \n",
    "- [ ] :dart: Generate an analogue table below for the results :dart: "
   ]
  },
  {
   "cell_type": "markdown",
   "metadata": {},
   "source": [
    "### Decision Tree and Parameter Importance\n",
    "\n",
    ":::info\n",
    "See [main doc](https://hackmd.io/@blockscience/B1QKItvEye) for copyable explanations (or referenceable)\n",
    ":::\n",
    "- [ ] :dart: Write descriptive interpretation over the plot below :dart: \n",
    "- [ ] :dart: Generate an analogue plot below for the results :dart:"
   ]
  },
  {
   "cell_type": "markdown",
   "metadata": {},
   "source": [
    "### Commentary on Results:\n",
    "\n",
    ":dart: Write anything that comes up to mind based on the interpretation over all the results :dart: "
   ]
  },
  {
   "cell_type": "markdown",
   "metadata": {},
   "source": [
    "## Conclusion\n",
    "\n",
    "- [ ] 🔫 Jakob owns after Danilo wrote commentary on results 🔫"
   ]
  },
  {
   "cell_type": "markdown",
   "metadata": {},
   "source": [
    "## Appendix:\n",
    "### Parameter Impact on Metrics: "
   ]
  },
  {
   "cell_type": "markdown",
   "metadata": {},
   "source": [
    "## 2. Validator Ejection"
   ]
  },
  {
   "cell_type": "markdown",
   "metadata": {},
   "source": [
    "### Objective \n",
    "The Validator Ejection scenario evaluates the potential risks of creating periods of downtime due to slashing behavior. \n",
    "While mass slashings of consensus participants should only happen in extreme cases, the current slashing model theoretically allows validators to slash each other for arbitrary reasons. Even though it is too early to simulate specific attacks, it is necessary to further understand the effects of such events - even though the underlying reasons that lead to such an event might not be clear yet. If a high share of validators are slashed - and ejected from the active validator set (aka \"jailed\", or \"exited\") - finalization of the L2 chain might stop. Understanding what happens after such events can help further designing and refining the slashing conditions and magnitudes, as well as fail-safes that help return to active finalization sooner. \n",
    "This scenario specifically examines the likelihood of creating periods without finalization after validators are ejected from the network due to slashable offenses."
   ]
  },
  {
   "cell_type": "markdown",
   "metadata": {},
   "source": [
    "### Experimental Setup"
   ]
  },
  {
   "cell_type": "markdown",
   "metadata": {},
   "source": [
    "#### Testing Variables: \n",
    ":dart: we should check variables below \n",
    "\n",
    "##### Environmental:\n",
    "- Simulating time series for validator slashing events leading to ejection\n",
    "- Probability of drawing a slashable offense for each validator\n",
    "\n",
    "\n",
    "##### Protocol: \n",
    "- Assess the impact of validator ejection on network activity. This scenario tests various parameter choices related to validator behavior and slashing mechanisms. Key parameters include:  "
   ]
  },
  {
   "cell_type": "markdown",
   "metadata": {},
   "source": [
    "#### Simulation input/output per Monte Carlo run:\n",
    "\n",
    "##### Input:\n",
    "- Time series of events, drawn from a set of events that include slashable offenses\n",
    "\n",
    "##### Output:  \n",
    "- Time series of epoch finalization events on L1, capturing the periods of network activity and resumption from inactivity.\n",
    "- Monte Carlo ($M$ runs indexed by $m$):\n",
    "    For each parameter constellation of interest, a realization from a set of events is drawn for every validator at every block. Some (perhaps all) of the events in the set are slashable offenses, and some contribute to network inactivity when a validator is 1) offline, as evidenced by an event realization, or 2) removed by the protocol, after accumulating too many offenses. The realization probability may be coarsely specified as a fixed probability of drawing a slashable offense for each validator, and then another probability of which offense has occurred. A non-slashable event is ignored."
   ]
  },
  {
   "cell_type": "markdown",
   "metadata": {},
   "source": [
    "#### Sweep Parameters:\n",
    "Refer to the [spreadsheet](https://docs.google.com/spreadsheets/d/1EbW4sEYWb7iCjOYfgivNsLxe1O6ZFYwFSsRQjfiPLTM/edit?gid=955157985#gid=955157985&range=A1) for detailed parameter configurations related to staking and slashing mechanisms.\n",
    "\n",
    ":dart: Fill in :dart:\n",
    "\n",
    "##### Control:\n",
    "\n",
    "##### Environmental:"
   ]
  },
  {
   "cell_type": "markdown",
   "metadata": {},
   "source": [
    "#### Simulation Behavior: "
   ]
  },
  {
   "cell_type": "markdown",
   "metadata": {},
   "source": [
    "#### Threshold Inequalities:"
   ]
  },
  {
   "cell_type": "markdown",
   "metadata": {},
   "source": [
    "#### Metrics:\n",
    "1. **Average Percentage of Inactivity:**    \n",
    "- Defined as the average over all Monte Carlo runs of the fraction of time the network was inactive due to forced validator exit from slashing.\n",
    "- Interpretation: A high percentage of inactivity may exceed a pre-defined upper bound (defined from stakeholder requirements), and indicate that although slashing events are applied per validator, some parameter constellations may be more likely to create \"clusters\" of validator inactivity."
   ]
  },
  {
   "cell_type": "markdown",
   "metadata": {},
   "source": [
    "#### Computational Complexity:\n",
    "1. Total number of parameter constellations: :dart: \n",
    "2. Total number of Monte Carlo runs per constellation: :dart:\n",
    "3. Total number of experiments per adaptive grid: :dart:\n",
    "4. Number of adaptive grid searches: :dart:\n",
    "5. Total number of parameter constellations evaluated: :dart:"
   ]
  },
  {
   "cell_type": "markdown",
   "metadata": {},
   "source": [
    "### Adaptive Grid Results \n",
    "\n",
    ":::info\n",
    "See [main doc](https://hackmd.io/@blockscience/B1QKItvEye) for copyable explanations (or referenceable)\n",
    ":::\n",
    "\n",
    "- [ ] :dart: Write descriptive interpretation over the plot below :dart: \n",
    "- [ ] :dart: Generate an analogue plot below for the results :dart: "
   ]
  },
  {
   "cell_type": "markdown",
   "metadata": {},
   "source": [
    "### Protocol Parameter Recommendations \n",
    "\n",
    ":::info\n",
    "See [main doc](https://hackmd.io/@blockscience/B1QKItvEye) for copyable explanations (or referenceable)\n",
    ":::\n",
    "\n",
    "- [ ] :dart: Write descriptive interpretation over table :dart: \n",
    "- [ ] :dart: Generate an analogue table below for the results :dart: "
   ]
  },
  {
   "cell_type": "markdown",
   "metadata": {},
   "source": [
    "### Decision Tree and Parameter Importance\n",
    "\n",
    ":::info\n",
    "See [main doc](https://hackmd.io/@blockscience/B1QKItvEye) for copyable explanations (or referenceable)\n",
    ":::\n",
    "- [ ] :dart: Write descriptive interpretation over the plot below :dart: \n",
    "- [ ] :dart: Generate an analogue plot below for the results :dart:"
   ]
  },
  {
   "cell_type": "markdown",
   "metadata": {},
   "source": [
    "### Commentary on Results:\n",
    "\n",
    ":dart: Write anything that comes up to mind based on the interpretation over all the results :dart: "
   ]
  },
  {
   "cell_type": "markdown",
   "metadata": {},
   "source": [
    "## Conclusion\n",
    "\n",
    "- [ ] 🔫 Jakob owns after Danilo wrote commentary on results 🔫"
   ]
  },
  {
   "cell_type": "markdown",
   "metadata": {},
   "source": []
  },
  {
   "cell_type": "markdown",
   "metadata": {},
   "source": [
    "## Appendix:\n",
    "### Parameter Impact on Metrics: "
   ]
  }
 ],
 "metadata": {
  "language_info": {
   "name": "python"
  }
 },
 "nbformat": 4,
 "nbformat_minor": 2
}
