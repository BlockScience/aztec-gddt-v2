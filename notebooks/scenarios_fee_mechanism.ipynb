{
 "cells": [
  {
   "cell_type": "markdown",
   "metadata": {},
   "source": [
    "# Fee Mechanism Scenarios"
   ]
  },
  {
   "cell_type": "markdown",
   "metadata": {},
   "source": [
    "## Summary\n",
    "\n",
    "The **Fee Mechanism** scenario group is a series of simulations designed to help inform the specification of protocol parameters assumed to impact the fee mechanism. The scenarios cover a variety of different environments for the base fee by simulating different \"shocks\". Different combinations of control and environmental parameter values generate different simulation outcomes, that can be summarized by key peformance indicators (KPIs). The KPIs are then assessed according to desired values (success criteria), using threshold inequalities generated from threshold values for KPIs that meet stakeholder criteria.\n",
    "Specifically, this scenario group covers four subgroups:\n",
    "i) Volatility\n",
    "The volatility scenario tests the effect of secondary market volatility on the volatility of the Base Fee as well as the proftibality of the Sequencer and the Prover\n",
    "\n",
    "ii) L2 Cost Censorship\n",
    "The L2 Cost Censorship scenario tests relative inclusion of L2 transactions by simulating user generated max fee per mana values and comparing them to base fee realizations. \n",
    "\n",
    "iii) Shock Analysis\n",
    "The Shock Analysis scenario tests the effects of L2 network congestion and L1 network congestion (represented through L1 gas prices) on the base fee dynamics. \n",
    "\n",
    "iv) Oracle Sensitivity\n",
    "The Oracle Sensitivity scenario tests the susceptibility of the fee mechanism to small errors propagating via the oracle channel, where \"real\" values can diverge from those used for computation (\"oracle values\") by \"lagging behind\" (slower update frequency and slower magnitude of change)."
   ]
  },
  {
   "cell_type": "markdown",
   "metadata": {},
   "source": [
    "## 1. Volatility"
   ]
  },
  {
   "cell_type": "markdown",
   "metadata": {},
   "source": [
    "### Objective \n",
    "The current computation for the fee mechanism requires a conversion from Wei to Fee Asset. This implies that secondary market volatility of that asset pair has effects on each realization of a base fee and as such presents an uncertain outcome on quality of service for End Users and service provisioning by Sequencers and Provers. \n",
    "This scenario tests the propagation of secondary market volatility of the Fee Asset price to 1) the volatility of the Base Fee, denominated in terms of Fee Asset per mana, 2) the profitability of the sequencer, and 3) the profitability of the prover."
   ]
  },
  {
   "cell_type": "markdown",
   "metadata": {},
   "source": [
    "### Experimental Setup"
   ]
  },
  {
   "cell_type": "markdown",
   "metadata": {},
   "source": [
    "#### Testing Variables: \n",
    ":dart: we should check tthe below variables \n",
    "\n",
    "##### Environmental:\n",
    "* Introduce different exchange rate realizations, by varying variance and mean. Exchange rate scenarios are modeled as particular shocks, where they either:\n",
    "i) strictly increase at maximum change throughout the simulation \n",
    "ii) strictly decrease at maximum change throughout the simulation \n",
    "iii) new values are drawn randomly from within the allowed range\n",
    "iv) stagnate without much change throughout the simulation\n",
    "This is a proxy for different environmental realizations of secondary market effects on the base fee. \n",
    "\n",
    "\n",
    "##### Protocol: \n",
    "Assess the impact of different Base Fee related values. As the Base Fee is computed from various parametrizable components, this scenario tests a first group of parameter choices. This group consists of:\n",
    "i)`OVERHEAD_MANA_PER_TX` - Each transaction incurs overhead mana costs, irrespective of any conducted operations. \n",
    "ii) `MAXIMUM_MANA_PER_BLOCK` - Each block is limited in *size* by this value, affecting profitability of sequencers, throughput of the network, and the computation of base fees directly. \n",
    "iii) `TARGET_MANA_PER_BLOCK` - This value is needed to compute the congestion component of the base fee. \n",
    "iv) `MAXIMUM_FEE_JUICE_PER_WEI_PERCENT_CHANGE_PER_L2_SLOT` - This limits the useable space of real secondary market price updates. In other words, the real secondary market price can fluctuate freely (such as in a flashcrash), while the oracle value used in practice by users is limited in change. Through this the base fee might lag behind in its conversion component when compared to a \"real\" secondary market price value used in computation. \n",
    "v) `MAXIMUM_PROVING_COST_WEI_PER_MANA_PERCENT_CHANGE_PER_L2_SLOT` - This limits the useable space of real proving cost updates. In other words, the proving cost experienced by Provers might differ from the oracle value used in practice by users. Through this the base fee might lag behind in its proving cost component when compared to a \"real\" secondary market price value used in computation. "
   ]
  },
  {
   "cell_type": "markdown",
   "metadata": {},
   "source": [
    "#### Simulation input/output per Monte Carlo run:\n",
    "\n",
    "##### Input:\n",
    "For each parameter constellation of interest, we draw a simulated time series of secondary market Fee Asset price used to pay the transaction fee, parameterized by moments of distribution (mean, variance).\n",
    "\n",
    "##### Output:  \n",
    "- $\\mathcal{M}$ Monte Carlo runs indexed by $m$.\n",
    "- Time series of the Base Fee denominated in Fee Asset per mana\n",
    "- Number of empty slots per epoch, for each $m$th Monte Carlo run."
   ]
  },
  {
   "cell_type": "markdown",
   "metadata": {},
   "source": [
    "#### Sweep Parameters:\n",
    "Refer to the [spreadsheet](https://docs.google.com/spreadsheets/d/1EbW4sEYWb7iCjOYfgivNsLxe1O6ZFYwFSsRQjfiPLTM/edit?gid=955157985#gid=955157985&range=A1) for detailed parameter configurations related to staking and slashing mechanisms.\n",
    "\n",
    ":dart: Fill in :dart:\n",
    "\n",
    "##### Control:\n",
    "- tbd, \n",
    "    - `OVERHEAD_MANA_PER_TX`\n",
    "    - `MAXIMUM_MANA_PER_BLOCK`\n",
    "    - `TARGET_MANA_PER_BLOCK`\n",
    "    - `MAXIMUM_FEE_JUICE_PER_WEI_PERCENT_CHANGE_PER_L2_SLOT`\n",
    "    - `MAXIMUM_PROVING_COST_WEI_PER_MANA_PERCENT_CHANGE_PER_L2_SLOT`\n",
    "\n",
    "##### Environmental:\n",
    "- tbd,\n",
    "    - `PROVING_COST_MODIFIER_INITIAL_C`\n",
    "    - `PROVING_COST_MODIFICATION_E`\n",
    "    - `FEE_JUICE_PRICE_MODIFIER_INITIAL_C` \n",
    "    - `FEE_JUICE_PRICE_MODIFICATION_E`\n",
    "    - Scenarios: strictly increasing, strictly decreasing, random realization (of realized secondary market exchange rate time series) "
   ]
  },
  {
   "cell_type": "markdown",
   "metadata": {},
   "source": [
    "#### Simulation Behavior:\n",
    "1. A sequencer will not post a block to L1 if the revenue from the block is less than the cost of posting the block.\n",
    "2. A prover will not post a proof to L1 if the revenue from proving is less than the cost of posting the block."
   ]
  },
  {
   "cell_type": "markdown",
   "metadata": {},
   "source": [
    "#### Threshold Inequalities:"
   ]
  },
  {
   "cell_type": "markdown",
   "metadata": {},
   "source": [
    "#### Metrics:\n",
    "1. **Average relative volatility:** $\\bar{(\\frac{\\sigma_B}{\\sigma_A})}$, where the average is taken over the $\\mathcal{M}$ MC runs of the values $\\sigma_B^m$/$\\sigma_A^m$, $m = 1 , … ,\\mathcal{M}$, and $\\sigma_A^m$ and $\\sigma_B^m$ are the volatility measures for the ASSET time series and BASE FEE time series for MC run $m$, respectively.\n",
    "Interpretation: A value of the metric greater than 1 indicates that ASSET price volatility is amplified, while a volatility less than 1 indicates that ASSET price volatility is attenuated.\n",
    "\n",
    "    \n",
    "2. Average number of empty block slots over the $\\mathcal{M}$ MC runs\n",
    "Interpretation: A large number of empty slots implies that posting blocks to L1 is unprofitable for a sequencer.\n",
    "\n",
    "\n",
    "3. Average number of unproven epochs over the $\\mathcal{M}$ MC runs\n",
    "Interpretation: A large number of unproven epochs implies that posting proofs to L1 is unprofitable for a prover.\n",
    "\n"
   ]
  },
  {
   "cell_type": "code",
   "execution_count": null,
   "metadata": {},
   "outputs": [],
   "source": [
    "#### Computational Complexity:\n",
    "1. Total number of parameter constellations: :dart: \n",
    "2. Total number of Monte Carlo runs per constellation: :dart:\n",
    "3. Total number of experiments per adaptive grid: :dart:\n",
    "4. Number of adaptive grid searches: :dart:\n",
    "5. Total number of parameter constellations evaluated: :dart:"
   ]
  },
  {
   "cell_type": "markdown",
   "metadata": {},
   "source": [
    "### Adaptive Grid Results \n",
    "\n",
    ":::info\n",
    "See [main doc](https://hackmd.io/@blockscience/B1QKItvEye) for copyable explanations (or referenceable)\n",
    ":::\n",
    "\n",
    "- [ ] :dart: Write descriptive interpretation over the plot below :dart: \n",
    "- [ ] :dart: Generate an analogue plot below for the results :dart: "
   ]
  },
  {
   "cell_type": "markdown",
   "metadata": {},
   "source": [
    "### Protocol Parameter Recommendations \n",
    "\n",
    ":::info\n",
    "See [main doc](https://hackmd.io/@blockscience/B1QKItvEye) for copyable explanations (or referenceable)\n",
    ":::\n",
    "\n",
    "- [ ] :dart: Write descriptive interpretation over table :dart: \n",
    "- [ ] :dart: Generate an analogue table below for the results :dart: "
   ]
  },
  {
   "cell_type": "markdown",
   "metadata": {},
   "source": [
    "### Decision Tree and Parameter Importance\n",
    "\n",
    ":::info\n",
    "See [main doc](https://hackmd.io/@blockscience/B1QKItvEye) for copyable explanations (or referenceable)\n",
    ":::\n",
    "- [ ] :dart: Write descriptive interpretation over the plot below :dart: \n",
    "- [ ] :dart: Generate an analogue plot below for the results :dart:"
   ]
  },
  {
   "cell_type": "markdown",
   "metadata": {},
   "source": [
    "### Commentary on Results:\n",
    "\n",
    ":dart: Write anything that comes up to mind based on the interpretation over all the results :dart: "
   ]
  },
  {
   "cell_type": "markdown",
   "metadata": {},
   "source": [
    "## Conclusion\n",
    "\n",
    "- [ ] 🔫 Jakob owns after Danilo wrote commentary on results 🔫"
   ]
  },
  {
   "cell_type": "markdown",
   "metadata": {},
   "source": [
    "## Appendix:\n",
    "### Parameter Impact on Metrics: "
   ]
  },
  {
   "cell_type": "markdown",
   "metadata": {},
   "source": [
    "## 2. L2 Cost Censorship"
   ]
  },
  {
   "cell_type": "markdown",
   "metadata": {},
   "source": [
    "### Objective \n",
    "As the fee mechanism can return a different base fee at each timestep, users must specify a max fee per mana value up to which they accept paying for a rising base fee. This implies that for UX purposes, a highly volatile base fee computation might render reasonably set max fee per mana values infeasible, as the base fee deviates too much until the time to inclusion.\n",
    "This scenario tests the relative inclusion of transactions given sequencer profitability, based upon the requirement that the maximum fee per mana for any (included) transaction must at least cover the estimated base fee per mana cost in a dynamically adjusting environment. By simulating shocks in the environment, which propagate into the fee mechanism computation, insights can be gained on potential effects of transactions inclusion under different max fee per mana assumptions."
   ]
  },
  {
   "cell_type": "markdown",
   "metadata": {},
   "source": [
    "### Experimental Setup"
   ]
  },
  {
   "cell_type": "markdown",
   "metadata": {},
   "source": [
    "#### Testing Variables: \n",
    ":dart: we should check tthe below variables \n",
    "\n",
    "##### Environmental:\n",
    "* Introduce a simulated max fee per mana time series which allows for measuring their expected inclusion.\n",
    "* Shock scenarios on secondary market exchange rate, gas prices, proving cost:\n",
    "\ti) strictly increase at maximum change throughout the simulation \n",
    "\tii) strictly decrease at maximum change throughout the simulation \n",
    "\tiii) new values are drawn randomly from within the allowed range\n",
    "\tiv) stagnate without much change throughout the simulation\n",
    "\n",
    "* Assess the impact of different Base Fee related values. As the Base Fee is computed from various parametrizable components, this scenario tests a first group of parameter choices. This group consists of:\n",
    "i)`OVERHEAD_MANA_PER_TX` - Each transaction incurs overhead mana costs, irrespective of any conducted operations. \n",
    "ii) `MAXIMUM_MANA_PER_BLOCK` - Each block is limited in *size* by this value, affecting profitability of sequencers, throughput of the network, and the computation of base fees directly. \n",
    "iii) `TARGET_MANA_PER_BLOCK` - This value is needed to compute the congestion component of the base fee. \n",
    "iv) `MAXIMUM_FEE_JUICE_PER_WEI_PERCENT_CHANGE_PER_L2_SLOT` - This limits the useable space of real secondary market price updates. In other words, the real secondary market price can fluctuate freely (such as in a flashcrash), while the oracle value used in practice by users is limited in change. Through this the base fee might lag behind in its conversion component when compared to a \"real\" secondary market price value used in computation. \n",
    "v) `MAXIMUM_PROVING_COST_WEI_PER_MANA_PERCENT_CHANGE_PER_L2_SLOT` - This limits the useable space of real proving cost updates. In other words, the proving cost experienced by Provers might differ from the oracle value used in practice by users. Through this the base fee might lag behind in its proving cost component when compared to a \"real\" secondary market price value used in computation. "
   ]
  },
  {
   "cell_type": "markdown",
   "metadata": {},
   "source": [
    "#### Simulation input/output per Monte Carlo run:\n",
    "\n",
    "##### Input:\n",
    "Simulated time series of transactions with different MAX FEE PER MANA amounts, parameterized by moments of distribution of MAX FEE PER MANA (mean, variance) at each block\n",
    "\n",
    "##### Output:  \n",
    "- Transactions included in each block; Transactions dropped from each block\n",
    "Monte Carlo ($M$ runs indexed by $m$):\n",
    "For each parameter constellation of interest, draw $M$ realizations of transaction time series\n"
   ]
  },
  {
   "cell_type": "markdown",
   "metadata": {},
   "source": [
    "#### Sweep Parameters:\n",
    "Refer to the [spreadsheet](https://docs.google.com/spreadsheets/d/1EbW4sEYWb7iCjOYfgivNsLxe1O6ZFYwFSsRQjfiPLTM/edit?gid=955157985#gid=955157985&range=A1) for detailed parameter configurations related to staking and slashing mechanisms.\n",
    "\n",
    ":dart: Fill in :dart:\n",
    "\n",
    "##### Control:\n",
    "- tbd, \n",
    "    - `OVERHEAD_MANA_PER_TX`\n",
    "    - `MAXIMUM_MANA_PER_BLOCK`\n",
    "    - `TARGET_MANA_PER_BLOCK`\n",
    "    - `MAXIMUM_FEE_JUICE_PER_WEI_PERCENT_CHANGE_PER_L2_SLOT`\n",
    "    - `MAXIMUM_PROVING_COST_WEI_PER_MANA_PERCENT_CHANGE_PER_L2_SLOT`\n",
    "\n",
    "##### Environmental:\n",
    "- tbd,\n",
    "    - Scenarios: strictly increasing, strictly decreasing, random realization (of realized secondary market exchange rate time series) "
   ]
  },
  {
   "cell_type": "markdown",
   "metadata": {},
   "source": [
    "#### Simulation Behavior:\n",
    "1. A sequencer will not post a block to L1 if the revenue from the block is less than the cost of posting the block.\n",
    "2. A prover will not post a proof to L1 if the revenue from proving is less than the cost of posting the block. "
   ]
  },
  {
   "cell_type": "markdown",
   "metadata": {},
   "source": [
    "#### Threshold Inequalities:"
   ]
  },
  {
   "cell_type": "markdown",
   "metadata": {},
   "source": [
    "#### Metrics:\n",
    "1. Average percentage of dropped transactions: $\\bar{(\\frac{T_I}{T_I+T_D})}$, where the average is taken over the $M$ MC runs of values $\\frac{T_I^m}{T_I^m+{T_D^m}}$ and $T_I^m$ and $T_D^m$ are the total transactions included and dropped for MC run $m$, respectively.\n",
    "Interpretation: Average percentage of dropped transactions: A high value indicates many transactions are dropped, while a low value indicates few values are dropped.\n",
    "2. Percentage of MC runs above dropped threshold ([PERCENTAGE_CENSORSHIP_LIMIT_M](https://docs.google.com/spreadsheets/d/1EbW4sEYWb7iCjOYfgivNsLxe1O6ZFYwFSsRQjfiPLTM/edit?gid=1840722092#gid=1840722092&range=A39)): The proportion of all MC runs for which the average percentage of dropped transactions was less than a THRESHOLD AMOUNT.\n",
    "Interpretation: Percentage of MC runs above dropped threshold: The percentage of Monte Carlo runs where the fraction of L2 transactions censored due to cost remains below a threshold.\n",
    "\n",
    "**Inflation term:**\n",
    "- For each run, the mean μB of the distribution of MAX FEE PER MANA for a block B is set using the following rule:\n",
    "- μB:=(1+π)FB−1, where π is an inflation term that is swept over and FB−1 is the base fee for the immediately previous block.\n",
    "- Intuitively, any transaction with MAX FEE PER MANA μB will be included if μB≥FB and dropped otherwise."
   ]
  },
  {
   "cell_type": "markdown",
   "metadata": {},
   "source": [
    "#### Computational Complexity:\n",
    "1. Total number of parameter constellations: :dart: \n",
    "2. Total number of Monte Carlo runs per constellation: :dart:\n",
    "3. Total number of experiments per adaptive grid: :dart:\n",
    "4. Number of adaptive grid searches: :dart:\n",
    "5. Total number of parameter constellations evaluated: :dart:"
   ]
  },
  {
   "cell_type": "markdown",
   "metadata": {},
   "source": [
    "### Adaptive Grid Results \n",
    "\n",
    ":::info\n",
    "See [main doc](https://hackmd.io/@blockscience/B1QKItvEye) for copyable explanations (or referenceable)\n",
    ":::\n",
    "\n",
    "- [ ] :dart: Write descriptive interpretation over the plot below :dart: \n",
    "- [ ] :dart: Generate an analogue plot below for the results :dart: "
   ]
  },
  {
   "cell_type": "markdown",
   "metadata": {},
   "source": [
    "### Protocol Parameter Recommendations \n",
    "\n",
    ":::info\n",
    "See [main doc](https://hackmd.io/@blockscience/B1QKItvEye) for copyable explanations (or referenceable)\n",
    ":::\n",
    "\n",
    "- [ ] :dart: Write descriptive interpretation over table :dart: \n",
    "- [ ] :dart: Generate an analogue table below for the results :dart: "
   ]
  },
  {
   "cell_type": "markdown",
   "metadata": {},
   "source": [
    "### Decision Tree and Parameter Importance\n",
    "\n",
    ":::info\n",
    "See [main doc](https://hackmd.io/@blockscience/B1QKItvEye) for copyable explanations (or referenceable)\n",
    ":::\n",
    "- [ ] :dart: Write descriptive interpretation over the plot below :dart: \n",
    "- [ ] :dart: Generate an analogue plot below for the results :dart:"
   ]
  },
  {
   "cell_type": "markdown",
   "metadata": {},
   "source": [
    "### Commentary on Results:\n",
    "\n",
    ":dart: Write anything that comes up to mind based on the interpretation over all the results :dart: "
   ]
  },
  {
   "cell_type": "markdown",
   "metadata": {},
   "source": [
    "## Conclusion\n",
    "\n",
    "- [ ] 🔫 Jakob owns after Danilo wrote commentary on results 🔫"
   ]
  },
  {
   "cell_type": "markdown",
   "metadata": {},
   "source": [
    "## Appendix:\n",
    "### Parameter Impact on Metrics: "
   ]
  },
  {
   "cell_type": "markdown",
   "metadata": {},
   "source": [
    "## 3. Shock Analysis"
   ]
  },
  {
   "cell_type": "markdown",
   "metadata": {},
   "source": [
    "### Objective \n",
    "As the fee mechanism is affected both by L1 congestion (through *limited L1 block space*, resulting in high gas and blob gas prices, as well as potential unavailability of settlement) and L2 congestion (through the *congestion component* of the fee mechanism), more insights are needed on the reaction of the fee mechanism to environmental shocks.\n",
    "This scenario tests the resulting base fee and effects on included/excluded transactions when congestion shocks are introduced. This provides an insight into the resulting fee landscape under different control parameter constellations to further evaluate failure modes resulting from (direct and indirect) demand shocks. "
   ]
  },
  {
   "cell_type": "markdown",
   "metadata": {},
   "source": [
    "### Experimental Setup"
   ]
  },
  {
   "cell_type": "markdown",
   "metadata": {},
   "source": [
    "#### Testing Variables: \n",
    ":dart: we should check the below variables \n",
    "\n",
    "##### Environmental:\n",
    "* Simulating a time series for transactions volume representing low and high network congestion\n",
    "* Shock scenarios on gas prices:\n",
    "\ti) strictly increase at maximum change throughout the simulation \n",
    "\tii) strictly decrease at maximum change throughout the simulation \n",
    "\tiii) new values are drawn randomly from within the allowed range\n",
    "\tiv) stagnate without much change throughout the simulation\n",
    "\n",
    "\n",
    "##### Protocol: \n",
    " Assess the impact of different Base Fee related values. As the Base Fee is computed from various parametrizable components, this scenario tests a first group of parameter choices. This group consists of:\n",
    "i)`OVERHEAD_MANA_PER_TX` - Each transaction incurs overhead mana costs, irrespective of any conducted operations. \n",
    "ii) `MAXIMUM_MANA_PER_BLOCK` - Each block is limited in *size* by this value, affecting profitability of sequencers, throughput of the network, and the computation of base fees directly. \n",
    "iii) `TARGET_MANA_PER_BLOCK` - This value is needed to compute the congestion component of the base fee. \n",
    "iv) `MAXIMUM_FEE_JUICE_PER_WEI_PERCENT_CHANGE_PER_L2_SLOT` - This limits the useable space of real secondary market price updates. In other words, the real secondary market price can fluctuate freely (such as in a flashcrash), while the oracle value used in practice by users is limited in change. Through this the base fee might lag behind in its conversion component when compared to a \"real\" secondary market price value used in computation. \n",
    "v) `MAXIMUM_PROVING_COST_WEI_PER_MANA_PERCENT_CHANGE_PER_L2_SLOT` - This limits the useable space of real proving cost updates. In other words, the proving cost experienced by Provers might differ from the oracle value used in practice by users. Through this the base fee might lag behind in its proving cost component when compared to a \"real\" secondary market price value used in computation. "
   ]
  },
  {
   "cell_type": "markdown",
   "metadata": {},
   "source": [
    "#### Simulation input/output per Monte Carlo run:\n",
    "\n",
    "##### Input:\n",
    "- Simulated time series for transactions volume representing \"low\" and \"high\" network congestion, where \"low\" is parameterized by a distribution with a mean μL and \"high\" is parameterized by a distribution with a mean μL+Δμ, with Δμ>0. The time series exhibits a \"shock\" from low to high congestion for a duration tμ, and subsequently returns to low congestion.\n",
    "- Simulated time series for L1 gas prices (in ETH) representing \"low\" and \"high\" costs, where \"low\" is parameterized by a distribution with a mean γL and \"high\" is parameterized by a distribution with a mean γL+Δγ, with Δγ>0. The time series exhibits a \"shock\" from low to high L1 costs for a duration tγ, and subsequently returns to low costs.\n",
    "\n",
    "##### Output:  \n",
    "- The time series of the base fee\n",
    "- The time series of available transactions included in each block\n",
    "- The time series of available transactions excluded from each block\n",
    "- Monte Carlo ($M$ runs indexed by $m$):\n",
    "    - For each parameter constellation of interest, realizations of (Δμ,Δγ) and (tμ,tγ) are drawn from respective distributions with given (mean, variance) moments. Each pair may exhibit correlated or uncorrelated movements depending upon their respective covariance matrices."
   ]
  },
  {
   "cell_type": "markdown",
   "metadata": {},
   "source": [
    "#### Sweep Parameters:\n",
    "Refer to the [spreadsheet](https://docs.google.com/spreadsheets/d/1EbW4sEYWb7iCjOYfgivNsLxe1O6ZFYwFSsRQjfiPLTM/edit?gid=955157985#gid=955157985&range=A1) for detailed parameter configurations related to staking and slashing mechanisms.\n",
    "\n",
    ":dart: Fill in :dart:\n",
    "\n",
    "##### Control:\n",
    "- tbd, \n",
    "    - `OVERHEAD_MANA_PER_TX`\n",
    "    - `MAXIMUM_MANA_PER_BLOCK`\n",
    "    - `TARGET_MANA_PER_BLOCK`\n",
    "    - `MAXIMUM_FEE_JUICE_PER_WEI_PERCENT_CHANGE_PER_L2_SLOT`\n",
    "    - `MAXIMUM_PROVING_COST_WEI_PER_MANA_PERCENT_CHANGE_PER_L2_SLOT`\n",
    "\n",
    "##### Environmental:\n",
    "- tbd,\n",
    "    - `PROVING_COST_MODIFIER_INITIAL_C`\n",
    "    - `PROVING_COST_MODIFICATION_E`\n",
    "    - `FEE_JUICE_PRICE_MODIFIER_INITIAL_C` \n",
    "    - `FEE_JUICE_PRICE_MODIFICATION_E`\n",
    "    - Scenarios: strictly increasing, strictly decreasing, random realization (of realized secondary market exchange rate time series) "
   ]
  },
  {
   "cell_type": "markdown",
   "metadata": {},
   "source": [
    "#### Simulation Behavior:\n",
    "1. A sequencer will not post a block to L1 if the revenue from the block is less than the cost of posting the block.\n",
    "2. A prover will not post a proof to L1 if the revenue from proving is less than the cost of posting the block."
   ]
  },
  {
   "cell_type": "markdown",
   "metadata": {},
   "source": [
    "#### Threshold Inequalities:"
   ]
  },
  {
   "cell_type": "markdown",
   "metadata": {},
   "source": [
    "#### Metrics:\n",
    "1. Average percentage of excluded transactions: $\\bar{(\\frac{T_I}{T_I+T_E})}$, where the average is taken over the M MC runs of values $\\frac{T_I^m}{T_I^m+{T_E^m}}$ and ${T_I^m}$ and${T_E^m}$ are the total transactions included and excluded for MC run $m$, respectively.\n",
    "Interpretation: Average percentage of excluded transactions: A high value indicates that the network congestion and/or L1 gas cost shocks impact the base fee to the extent that many otherwise available transactions are not included in a block.\n",
    "\n",
    "\n",
    "2. Percentage of return to base fee ([PERCENTAGE_RETURN_TO_BASE_M](https://docs.google.com/spreadsheets/d/1EbW4sEYWb7iCjOYfgivNsLxe1O6ZFYwFSsRQjfiPLTM/edit?gid=1840722092#gid=1840722092&range=A41)): The proportion of MC runs where the base fee returns to within a percentage of the base fee after the shock has concluded.\n",
    "Interpretation: Percentage of return to base fee: A high percentage indicates that the fee mechanism is _resilient_ to congestion and/or L1 gas cost shocks, returning to a 'baseline' base fee value after the shock has passed.\n",
    "\n"
   ]
  },
  {
   "cell_type": "markdown",
   "metadata": {},
   "source": [
    "#### Computational Complexity:\n",
    "1. Total number of parameter constellations: :dart: \n",
    "2. Total number of Monte Carlo runs per constellation: :dart:\n",
    "3. Total number of experiments per adaptive grid: :dart:\n",
    "4. Number of adaptive grid searches: :dart:\n",
    "5. Total number of parameter constellations evaluated: :dart:"
   ]
  },
  {
   "cell_type": "markdown",
   "metadata": {},
   "source": [
    "### Adaptive Grid Results \n",
    "\n",
    ":::info\n",
    "See [main doc](https://hackmd.io/@blockscience/B1QKItvEye) for copyable explanations (or referenceable)\n",
    ":::\n",
    "\n",
    "- [ ] :dart: Write descriptive interpretation over the plot below :dart: \n",
    "- [ ] :dart: Generate an analogue plot below for the results :dart: "
   ]
  },
  {
   "cell_type": "markdown",
   "metadata": {},
   "source": [
    "### Protocol Parameter Recommendations \n",
    "\n",
    ":::info\n",
    "See [main doc](https://hackmd.io/@blockscience/B1QKItvEye) for copyable explanations (or referenceable)\n",
    ":::\n",
    "\n",
    "- [ ] :dart: Write descriptive interpretation over table :dart: \n",
    "- [ ] :dart: Generate an analogue table below for the results :dart: "
   ]
  },
  {
   "cell_type": "markdown",
   "metadata": {},
   "source": [
    "### Decision Tree and Parameter Importance\n",
    "\n",
    ":::info\n",
    "See [main doc](https://hackmd.io/@blockscience/B1QKItvEye) for copyable explanations (or referenceable)\n",
    ":::\n",
    "- [ ] :dart: Write descriptive interpretation over the plot below :dart: \n",
    "- [ ] :dart: Generate an analogue plot below for the results :dart:"
   ]
  },
  {
   "cell_type": "markdown",
   "metadata": {},
   "source": [
    "### Commentary on Results:\n",
    "\n",
    ":dart: Write anything that comes up to mind based on the interpretation over all the results :dart: "
   ]
  },
  {
   "cell_type": "markdown",
   "metadata": {},
   "source": [
    "## Conclusion\n",
    "\n",
    "- [ ] 🔫 Jakob owns after Danilo wrote commentary on results 🔫"
   ]
  },
  {
   "cell_type": "markdown",
   "metadata": {},
   "source": [
    "## Appendix:\n",
    "### Parameter Impact on Metrics: "
   ]
  },
  {
   "cell_type": "markdown",
   "metadata": {},
   "source": [
    "## 4. Oracle Sensitivity"
   ]
  },
  {
   "cell_type": "markdown",
   "metadata": {},
   "source": [
    "### Objective \n",
    "The fee mechanism includes components relying on oracle values rather than having access to a (theoretical) \"real\" value. Considering that oracles might not be updated (and/or *updateable*) in real-time, and that their maximum change per update might be bounded, there can exist \"lag\" from \"real\" values to the oracle values used for the fee mechanism computation. If these values diverge through lag, users/sequencers/provers might not have access to a realistic cost / profit calculation. The Oracle Sensitivity scenario aims to evaluate the impact of oracle-driven parameters on the transaction fee mechanism within the Aztec network. \n",
    "This scenario specifically tests the susceptibility of the fee mechanism to errors propagated through oracle channels, which are external sources of truth not directly controlled by Aztec."
   ]
  },
  {
   "cell_type": "markdown",
   "metadata": {},
   "source": [
    "### Experimental Setup"
   ]
  },
  {
   "cell_type": "markdown",
   "metadata": {},
   "source": [
    "#### Testing Variables: \n",
    ":dart: we should check the below variables \n",
    "\n",
    "##### Environmental:\n",
    "** Simulating time series for oracle-driven parameters\n",
    "* (Potential) Shock scenarios:\n",
    "\ti) strictly increase at maximum change throughout the simulation \n",
    "\tii) strictly decrease at maximum change throughout the simulation \n",
    "\tiii) new values are drawn randomly from within the allowed range\n",
    "\tiv) stagnate without much change throughout the simulation\n",
    "\n",
    "##### Protocol:\n",
    "* Assess the impact of different Base Fee related values. As the Base Fee is computed from various parametrizable components, this scenario tests a first group of parameter choices. This group consists of:\n",
    "\ti)`OVERHEAD_MANA_PER_TX` - Each transaction incurs overhead mana costs, irrespective of any conducted operations. \n",
    "\tii) `MAXIMUM_MANA_PER_BLOCK` - Each block is limited in *size* by this value, affecting profitability of sequencers, throughput of the network, and the computation of base fees directly. \n",
    "\tiii) `TARGET_MANA_PER_BLOCK` - This value is needed to compute the congestion component of the base fee. \n",
    "\tiv) `MAXIMUM_FEE_JUICE_PER_WEI_PERCENT_CHANGE_PER_L2_SLOT` - This limits the useable space of real secondary market price updates. In other words, the real secondary market price can fluctuate freely (such as in a flashcrash), while the oracle value used in practice by users is limited in change. Through this the base fee might lag behind in its conversion component when compared to a \"real\" secondary market price value used in computation. \n",
    "\tv) `MAXIMUM_PROVING_COST_WEI_PER_MANA_PERCENT_CHANGE_PER_L2_SLOT` - This limits the useable space of real proving cost updates. In other words, the proving cost experienced by Provers might differ from the oracle value used in practice by users. Through this the base fee might lag behind in its proving cost component when compared to a \"real\" secondary market price value used in computation. "
   ]
  },
  {
   "cell_type": "markdown",
   "metadata": {},
   "source": [
    "#### Simulation input/output per Monte Carlo run:\n",
    "\n",
    "##### Input:\n",
    "Simulated time series of a single oracle parameter, which includes a deviation at a specified time period. This deviation is used to assess the impact on the base fee.\n",
    "\n",
    "##### Output:  \n",
    "- Time series of the Base Fee denominated in Asset per mana, capturing the periods before, during, and after the oracle parameter deviation.\n",
    "\n",
    "- Monte Carlo ($M$ runs indexed by $m$):\n",
    "    - For each parameter constellation of interest, create $M$ time series realizations (scenario-based or random outcome, as defined in **Simulation Behavior**) of the environmental parameters"
   ]
  },
  {
   "cell_type": "markdown",
   "metadata": {},
   "source": [
    "#### Sweep Parameters:\n",
    "Refer to the [spreadsheet](https://docs.google.com/spreadsheets/d/1EbW4sEYWb7iCjOYfgivNsLxe1O6ZFYwFSsRQjfiPLTM/edit?gid=955157985#gid=955157985&range=A1) for detailed parameter configurations related to staking and slashing mechanisms.\n",
    "\n",
    ":dart: Fill in :dart:\n",
    "\n",
    "##### Control:\n",
    "- tbd, \n",
    "    - `OVERHEAD_MANA_PER_TX`\n",
    "    - `MAXIMUM_MANA_PER_BLOCK`\n",
    "    - `TARGET_MANA_PER_BLOCK`\n",
    "    - `MAXIMUM_FEE_JUICE_PER_WEI_PERCENT_CHANGE_PER_L2_SLOT`\n",
    "    - `MAXIMUM_PROVING_COST_WEI_PER_MANA_PERCENT_CHANGE_PER_L2_SLOT`\n",
    "\n",
    "##### Environmental:\n",
    "- tbd,\n",
    "    - Scenarios: strictly increasing, strictly decreasing, random realization (of realized secondary market exchange rate time series) "
   ]
  },
  {
   "cell_type": "markdown",
   "metadata": {},
   "source": [
    "#### Simulation Behavior:\n",
    "One environmental parameter is selected at a time from the list below:\n",
    "\n",
    "- For PROVING_COST_MODIFICATION_E and FEE_JUICE_PRICE_MODIFICATION_E, these are set as potentially increasing, decreasing or constant functions over time (3 sub-scenarios in total)\n",
    "- For ORACLE_UPDATE_FREQUENCY_E: this is the probability in any L2 block that the oracle could be updated. Whether or not the oracle is actually updated depends upon its last update time--an oracle value can only be updated if at least MIN_ORACLE_UPDATE_LAG_C (set to 5 in the simulations) has passed. "
   ]
  },
  {
   "cell_type": "markdown",
   "metadata": {},
   "source": [
    "#### Threshold Inequalities:"
   ]
  },
  {
   "cell_type": "markdown",
   "metadata": {},
   "source": [
    "#### Metrics:\n",
    "**Average Elasticity of the Base Fee:**\n",
    "- Defined as the percentage change in the base fee divided by the percentage change in the oracle parameter, averaged over Monte Carlo runs.\n",
    "Interpretation: A value of the metric greater than 1 indicates that the base fee is sensitive to changes in the oracle parameter, making it more susceptible to spurious errors (as modeled by the distribution that the errors are drawn from). A value less than 1 implies that the base fee is less sensitive to such changes, improving its predictability and 'inoculation' against spurious errors.\n",
    "\n",
    "**Sequencer Losses:**\n",
    "- Calculated as the average difference between the sequencer's revenue without oracle lag and the actual revenue with **MIN_ORACLE_UPDATE_LAG_C** in place.\n",
    "Interpretation: A large positive value indicates that the sequencer has been negatively affected by oracle lag. Conversely, a negative value means that the sequencer actually benefited from the lag (this may be impossible given the way the base fee is computed)."
   ]
  },
  {
   "cell_type": "markdown",
   "metadata": {},
   "source": [
    "#### Computational Complexity:\n",
    "1. Total number of parameter constellations: :dart: \n",
    "2. Total number of Monte Carlo runs per constellation: :dart:\n",
    "3. Total number of experiments per adaptive grid: :dart:\n",
    "4. Number of adaptive grid searches: :dart:\n",
    "5. Total number of parameter constellations evaluated: :dart:"
   ]
  },
  {
   "cell_type": "markdown",
   "metadata": {},
   "source": [
    "### Adaptive Grid Results \n",
    "\n",
    ":::info\n",
    "See [main doc](https://hackmd.io/@blockscience/B1QKItvEye) for copyable explanations (or referenceable)\n",
    ":::\n",
    "\n",
    "- [ ] :dart: Write descriptive interpretation over the plot below :dart: \n",
    "- [ ] :dart: Generate an analogue plot below for the results :dart: "
   ]
  },
  {
   "cell_type": "markdown",
   "metadata": {},
   "source": [
    "### Protocol Parameter Recommendations \n",
    "\n",
    ":::info\n",
    "See [main doc](https://hackmd.io/@blockscience/B1QKItvEye) for copyable explanations (or referenceable)\n",
    ":::\n",
    "\n",
    "- [ ] :dart: Write descriptive interpretation over table :dart: \n",
    "- [ ] :dart: Generate an analogue table below for the results :dart: "
   ]
  },
  {
   "cell_type": "markdown",
   "metadata": {},
   "source": [
    "### Decision Tree and Parameter Importance\n",
    "\n",
    ":::info\n",
    "See [main doc](https://hackmd.io/@blockscience/B1QKItvEye) for copyable explanations (or referenceable)\n",
    ":::\n",
    "- [ ] :dart: Write descriptive interpretation over the plot below :dart: \n",
    "- [ ] :dart: Generate an analogue plot below for the results :dart:"
   ]
  },
  {
   "cell_type": "markdown",
   "metadata": {},
   "source": [
    "### Commentary on Results:\n",
    "\n",
    ":dart: Write anything that comes up to mind based on the interpretation over all the results :dart: "
   ]
  },
  {
   "cell_type": "markdown",
   "metadata": {},
   "source": [
    "## Conclusion\n",
    "\n",
    "- [ ] 🔫 Jakob owns after Danilo wrote commentary on results 🔫"
   ]
  },
  {
   "cell_type": "markdown",
   "metadata": {},
   "source": [
    "## Appendix:\n",
    "### Parameter Impact on Metrics: "
   ]
  }
 ],
 "metadata": {
  "language_info": {
   "name": "python"
  }
 },
 "nbformat": 4,
 "nbformat_minor": 2
}
